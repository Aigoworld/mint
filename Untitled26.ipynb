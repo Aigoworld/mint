{
  "nbformat": 4,
  "nbformat_minor": 0,
  "metadata": {
    "colab": {
      "name": "Untitled26.ipynb",
      "provenance": [],
      "mount_file_id": "19PFqywMObudubt-iR625zPq4v8KO_EjT",
      "authorship_tag": "ABX9TyMjK27OuB0WNN7rnaQsjoNU",
      "include_colab_link": true
    },
    "kernelspec": {
      "name": "python3",
      "display_name": "Python 3"
    },
    "language_info": {
      "name": "python"
    }
  },
  "cells": [
    {
      "cell_type": "markdown",
      "metadata": {
        "id": "view-in-github",
        "colab_type": "text"
      },
      "source": [
        "<a href=\"https://colab.research.google.com/github/Aigoworld/mint/blob/main/Untitled26.ipynb\" target=\"_parent\"><img src=\"https://colab.research.google.com/assets/colab-badge.svg\" alt=\"Open In Colab\"/></a>"
      ]
    },
    {
      "cell_type": "code",
      "metadata": {
        "id": "u7G6V8sipq3D"
      },
      "source": [
        ""
      ],
      "execution_count": null,
      "outputs": []
    },
    {
      "cell_type": "code",
      "metadata": {
        "id": "TOL7HNKxpyxj"
      },
      "source": [
        "from google.colab import drive\n",
        "drive.mount('/content/drive')"
      ],
      "execution_count": null,
      "outputs": []
    },
    {
      "cell_type": "code",
      "metadata": {
        "id": "PpSeLE8uqQVz"
      },
      "source": [
        "!cd /content/drive/MyDrive/NFTTutorial"
      ],
      "execution_count": 15,
      "outputs": []
    },
    {
      "cell_type": "code",
      "metadata": {
        "colab": {
          "base_uri": "https://localhost:8080/"
        },
        "id": "l7BTekZRqVSN",
        "outputId": "5015aad7-d5b6-43f2-9545-3cc519b86c8a"
      },
      "source": [
        "!ls "
      ],
      "execution_count": 16,
      "outputs": [
        {
          "output_type": "stream",
          "name": "stdout",
          "text": [
            " contracts\t      migrations\t  README.md\t      ValuableNotes\n",
            "'deploy files'\t      package.json\t  src\t\t      yarn.lock\n",
            " firebase-debug.log   package-lock.json   test\n",
            " LICENSE\t      public\t\t  truffle-config.js\n"
          ]
        }
      ]
    },
    {
      "cell_type": "code",
      "metadata": {
        "colab": {
          "base_uri": "https://localhost:8080/"
        },
        "id": "gqJVKpvSqhGt",
        "outputId": "9fcacff2-16e4-44d3-d3d7-6df03e254c74"
      },
      "source": [
        "%cd /content/drive/MyDrive/NFTTutorial\n",
        "%ls"
      ],
      "execution_count": 5,
      "outputs": [
        {
          "output_type": "stream",
          "name": "stdout",
          "text": [
            "/content/drive/MyDrive/NFTTutorial\n",
            " \u001b[0m\u001b[01;34mcontracts\u001b[0m/           \u001b[01;34mmigrations\u001b[0m/         README.md           ValuableNotes\n",
            "\u001b[01;34m'deploy files'\u001b[0m/       package.json        \u001b[01;34msrc\u001b[0m/                yarn.lock\n",
            " firebase-debug.log   package-lock.json   \u001b[01;34mtest\u001b[0m/\n",
            " LICENSE              \u001b[01;34mpublic\u001b[0m/             truffle-config.js\n"
          ]
        }
      ]
    },
    {
      "cell_type": "code",
      "metadata": {
        "colab": {
          "base_uri": "https://localhost:8080/"
        },
        "id": "hgz4jXEjqqJl",
        "outputId": "3828e9d5-fe8a-4df1-b841-680006052175"
      },
      "source": [
        "!git push -u origin main"
      ],
      "execution_count": 28,
      "outputs": [
        {
          "output_type": "stream",
          "name": "stdout",
          "text": [
            "fatal: could not read Username for 'https://github.com': No such device or address\n"
          ]
        }
      ]
    },
    {
      "cell_type": "code",
      "metadata": {
        "colab": {
          "base_uri": "https://localhost:8080/"
        },
        "id": "0SmBQRVorKHq",
        "outputId": "097bfe18-2703-4667-f602-5cca7b8ee175"
      },
      "source": [
        "!git remote -v"
      ],
      "execution_count": 18,
      "outputs": [
        {
          "output_type": "stream",
          "name": "stdout",
          "text": [
            "origin\thttps://github.com/Aigoworld/mint.git (fetch)\n",
            "origin\thttps://github.com/Aigoworld/mint.git (push)\n"
          ]
        }
      ]
    },
    {
      "cell_type": "code",
      "metadata": {
        "colab": {
          "base_uri": "https://localhost:8080/"
        },
        "id": "3oXmHqXtrNLk",
        "outputId": "99f0c150-9e95-4f1e-a1a4-3d511367eae1"
      },
      "source": [
        "!git remote add origin https://github.com/Aigoworld/mint.git"
      ],
      "execution_count": 19,
      "outputs": [
        {
          "output_type": "stream",
          "name": "stdout",
          "text": [
            "fatal: remote origin already exists.\n"
          ]
        }
      ]
    },
    {
      "cell_type": "code",
      "metadata": {
        "id": "Rx6t9O6jraZi"
      },
      "source": [
        "!git branch -m main"
      ],
      "execution_count": 20,
      "outputs": []
    },
    {
      "cell_type": "code",
      "metadata": {
        "id": "HepCllIsrgEf"
      },
      "source": [
        "!git add --all"
      ],
      "execution_count": 21,
      "outputs": []
    },
    {
      "cell_type": "code",
      "metadata": {
        "colab": {
          "base_uri": "https://localhost:8080/"
        },
        "id": "zat3Ctq4rpZr",
        "outputId": "a7b35108-c33d-4183-f7dc-6975ffec4297"
      },
      "source": [
        "!git status"
      ],
      "execution_count": 22,
      "outputs": [
        {
          "output_type": "stream",
          "name": "stdout",
          "text": [
            "On branch main\n",
            "Your branch is up to date with 'origin/main'.\n",
            "\n",
            "Changes to be committed:\n",
            "  (use \"git reset HEAD <file>...\" to unstage)\n",
            "\n",
            "\t\u001b[32mmodified:   firebase-debug.log\u001b[m\n",
            "\t\u001b[32mdeleted:    public/assets/drunkensailor.png\u001b[m\n",
            "\n"
          ]
        }
      ]
    },
    {
      "cell_type": "code",
      "metadata": {
        "colab": {
          "base_uri": "https://localhost:8080/"
        },
        "id": "PVnon97ZryF1",
        "outputId": "7ae623f6-aa9a-449d-db2b-490d5a48a310"
      },
      "source": [
        "!git commit -m \"aigokidsmint\""
      ],
      "execution_count": 26,
      "outputs": [
        {
          "output_type": "stream",
          "name": "stdout",
          "text": [
            "\n",
            "*** Please tell me who you are.\n",
            "\n",
            "Run\n",
            "\n",
            "  git config --global user.email \"you@example.com\"\n",
            "  git config --global user.name \"Your Name\"\n",
            "\n",
            "to set your account's default identity.\n",
            "Omit --global to set the identity only in this repository.\n",
            "\n",
            "fatal: unable to auto-detect email address (got 'root@df72c46baa5b.(none)')\n"
          ]
        }
      ]
    },
    {
      "cell_type": "code",
      "metadata": {
        "id": "2jolqefasUDZ"
      },
      "source": [
        "!git config --global user.email\"gamey1651@gmail.com\"\n",
        "!git config --global user.name \"Your Name\""
      ],
      "execution_count": 25,
      "outputs": []
    },
    {
      "cell_type": "code",
      "metadata": {
        "colab": {
          "base_uri": "https://localhost:8080/"
        },
        "id": "zMMOdwrxr1Z2",
        "outputId": "01dbf34c-ba77-4e9e-fc5c-d7656cddb0fb"
      },
      "source": [
        "!git push -u origin"
      ],
      "execution_count": 27,
      "outputs": [
        {
          "output_type": "stream",
          "name": "stdout",
          "text": [
            "fatal: could not read Username for 'https://github.com': No such device or address\n"
          ]
        }
      ]
    }
  ]
}